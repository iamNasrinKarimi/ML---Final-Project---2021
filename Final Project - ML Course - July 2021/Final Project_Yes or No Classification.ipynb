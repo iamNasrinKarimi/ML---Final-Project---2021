{
 "cells": [
  {
   "cell_type": "markdown",
   "metadata": {},
   "source": [
    "# AIDa Team ML Course - Electrical Engineering Student Association & IEEE\n",
    "\n",
    "Contact us:\n",
    "\n",
    "- aidaresearchteam@gmail.com\n",
    "\n",
    "Instructors:\n",
    "\n",
    "- Kamyar Arshi -  kamyararshi@gmail.com\n",
    "- S.M.Mehdi Hosseini - smmehdihosseini@gmail.com\n",
    "\n",
    "------------------------------------------------------------------------------------------------------------------------------"
   ]
  },
  {
   "cell_type": "markdown",
   "metadata": {},
   "source": [
    "# Welcome to the Final Examination of the Machine Learning Course!\n",
    "\n",
    "This notebook is consisted of two parts, the exercises and the final project. You have to complete both in order to pass the final examination. Your final grading will be in the scale of 0-100 based on your performance. The results will be out after two days of your submission.\n",
    "\n",
    "\n",
    "**We wish you best of luck for it!**\n",
    "\n",
    "<img src=\"POSTER2.png\" style=\"width:450;height:300px;\">\n",
    "\n",
    "\n",
    "\n",
    "We would like to ask you to participate in the survey form to get a feed back from you. The form will take a maximum of **3 minutes** of your time. Your opinion is importnant to us and it will help us alot. Thank you so much in advance for your participation! We hope to see you again soon ;) \n",
    "\n",
    "Survey Form:\n",
    "https://forms.gle/ETRc4DAYc4K5Wt9KA\n"
   ]
  },
  {
   "cell_type": "markdown",
   "metadata": {},
   "source": [
    "## Contents\n",
    "- [Exercises](#I)\n",
    "- [Final Project](#II)"
   ]
  },
  {
   "cell_type": "markdown",
   "metadata": {},
   "source": [
    "<a name='I'></a>\n",
    "# Exercises"
   ]
  },
  {
   "cell_type": "markdown",
   "metadata": {},
   "source": [
    "In this part, you have to solve some problems, which are given according to the main concepts of the course. \n",
    "\n",
    "**Exercise 1:**\n",
    "\n",
    "A school decides to create a **linear regression model** that predicts the student's grades for the next semesters. They have used student's previous semester mid-term grades as input and train it to predict that semester's final examination grades. The linear regression's **trained weight** ($\\Theta$) is equal to `0.921` after training. Consider the table below as the inputs and labels and answer to the following questions:\n",
    "\n",
    "1. What is the value of $y_3$ and $x_4$? What is the value of `m` (number of examples)?\n",
    "2. How can a model find the optimized value of $\\Theta$. (How can it find a value of $\\Theta$ that minimizes the cost function)\n",
    "3. What is the models prediction for the input $x_{new} = 17.5$ ?\n",
    "4. Suppose the trained model has a value of `RMSE` equal to `20` on the training data. However, when they evaluate the model on the evaluation set the `RMSE` is `35`. Is the model underfitting? why?\n",
    "\n",
    "|#|Midterm Grade of the semmester|Final Grade of the semmester|\n",
    "|-|-------------|--------------|\n",
    "|1|20|20|\n",
    "|2|19.5|20|\n",
    "|3|15|14|\n",
    "|4|16|16|\n",
    "|5|17.75|18.5|\n",
    "|6|18.5|17|\n",
    "|7|14|16|\n",
    "|8|19|18.75|\n",
    "|9|20|19|\n",
    "|10|17.5|16.75|\n",
    "|11|16.5|16|\n",
    "|12|19.5|18.5|"
   ]
  },
  {
   "cell_type": "markdown",
   "metadata": {},
   "source": [
    "**Type your final answers here:** (Double click on this cell to write in it)\n",
    "\n",
    "'''\n",
    "    \n",
    "    1:\n",
    "        y(4)=16\n",
    "        x(3)=15\n",
    "    \n",
    "    2:\n",
    "        12\n",
    "    \n",
    "    3:\n",
    "        prediction(x_new)=16.1175\n",
    "    \n",
    "    4:\n",
    "        yes becuase the training set RMSE and the evaluation set RMSE are both high.\n",
    "        \n",
    "'''"
   ]
  },
  {
   "cell_type": "markdown",
   "metadata": {},
   "source": [
    "**Exercise 2:**\n",
    "\n",
    "1. Consider following figures. What are the best options to classify data? Would you rather choose linear or non-linear algorithm?\n",
    "\n",
    "<img src=\"Lin.png\" style=\"width:300;height:250px;\">\n",
    "\n",
    "2. In logistic regression, $y=1$ and our cost value of the prediction is about infinity. What was the probabilty of our prediction?\n",
    "3. We talked about Batch Gradient Descent, Stochastic Gradient Descent and Mini-Batch Gradient Descent optimizers. Considering these optimizers please answer these questions:\n",
    "\n",
    "    1. We've a got a really big data and we know that our cost function is convex. Which optimizer do you suggest to use?\n",
    "    2. Which optimizer fluctuates during the training?\n",
    "    3. Which optimizer converges faster to the optimum point? Batch or Mini-Batch GD?\n",
    "    \n",
    "4. Write the proper names for A, B, C and D in the following confusion matrix:\n",
    "\n",
    "<img src=\"conf.png\" style=\"width:200;height:200px;\">\n",
    "\n",
    "5. A jewellery has decided to set an alarm system. You as a ML engineer should classify the situations where a thief is trying to reach the store or not. In this specific project, is it preferred to have a high precision or high recall? Explain your reasons briefly."
   ]
  },
  {
   "cell_type": "markdown",
   "metadata": {},
   "source": [
    "**Type your final answers here:** (Double click on this cell to write in it)\n",
    "\n",
    "'''\n",
    "\n",
    "        1:  A=?\n",
    "            B=linear\n",
    "\n",
    "\n",
    "\n",
    "\n",
    "\n",
    "        2: 0\n",
    "\n",
    "\n",
    "\n",
    "\n",
    "\n",
    "\n",
    "        3.  A)Mini-Batch Gradient Descent\n",
    "            B)Batch Gradient Descent\n",
    "            C)Mini-Batch GD\n",
    " \n",
    " \n",
    " \n",
    " \n",
    "        4.  A)True positive\n",
    "            B)False negative\n",
    "            C)False positive\n",
    "            D)True negative\n",
    " \n",
    " \n",
    " \n",
    " \n",
    "        5. high recall becuase recall depends on False negatives and True positives and we want to have minumum of False \n",
    "        negatives because its to bad that if the theif reachs the store but the system igoners that (False negatives)\n",
    "         \n",
    "\n",
    "'''"
   ]
  },
  {
   "cell_type": "markdown",
   "metadata": {},
   "source": [
    "<a name='II'></a>\n",
    "# Welcome to the Final Project of the Machine Learning Course!"
   ]
  },
  {
   "cell_type": "markdown",
   "metadata": {},
   "source": [
    "After you have done a great job in your MNIST classification project, an insurance company decided to give it's voice recognition project to you! The customer service section of the company wants to create an automatic telephone operator system that asks some questions, which can be answered by saying either **yes** or **no** and classifies people's answers (voices) behind the telephone saying **\"YES\"** or **\"NO\"**.\n",
    "\n",
    "<img src=\"voicerec.jpg\" style=\"width:450;height:300px;\">\n",
    "\n",
    "The main steps are as follows:\n",
    "\n",
    "- Generally look at the problem and state it\n",
    "- Get the data\n",
    "- Load the data with [scipy](https://www.scipy.org/) library\n",
    "- Add labels and split train-test\n",
    "- Implement Classifiers and evaluate the models\n",
    "\n",
    "\n",
    "\n",
    "\n",
    "------------------------------------------------------------------------------------------------------------------------------\n",
    "**Authors:** Seyed Mohammad Mehdi Hosseini (Smmehdihosseini@gmail.com) & Kamyar Arshi (Kamyararshi@gmail.com) \n",
    "\n",
    "\n",
    "**Dataset License:**  Creative Commons BY 4.0 license (For more info visit: https://creativecommons.org/licenses/by/4.0/)"
   ]
  },
  {
   "cell_type": "markdown",
   "metadata": {},
   "source": [
    "## Table of Contents:\n",
    "\n",
    "- [1- Get the Data](#1)\n",
    "- [Import the libraries](#0)\n",
    "- [2- Load the Data](#2)\n",
    "- [3- Add Labels and Split to train-test set](#3)\n",
    "- [4- Implement Models and Evaluate them](#4)"
   ]
  },
  {
   "cell_type": "markdown",
   "metadata": {},
   "source": [
    "Before going furthure, let's install any required packages and libraries **if not installed on your system**. Simply execute the cell below. It will do the rest for you!"
   ]
  },
  {
   "cell_type": "code",
   "execution_count": null,
   "metadata": {
    "scrolled": true
   },
   "outputs": [],
   "source": [
    "# Install a pip package in the current Jupyter kernel (DO NOT RUN THIS CELL IF YOU HAVE THE PACKAGES ALREADY!)\n",
    "\n",
    "! pip install numpy matplotlib scipy scikit-learn"
   ]
  },
  {
   "cell_type": "markdown",
   "metadata": {},
   "source": [
    "If the cell did not work, contact us or install the packages manually using cmd and pip command."
   ]
  },
  {
   "cell_type": "markdown",
   "metadata": {},
   "source": [
    "<a name='1'></a>\n",
    "## Get the data\n",
    "\n",
    "You are given a dataset containing prerecorded **\"YES\"/\"NO\"** [wavefiles](https://en.wikipedia.org/wiki/WAV), and you are asked to build a classifier with to detect people's answers saying either **yes** or **no**.\n",
    "\n",
    "The dataset has been formatted as .wav files with 16 kHz [sampling rate](https://en.wikipedia.org/wiki/Sampling_(signal_processing)), so first of all we're going to get the array of each instance and then computing **Fast Fourier Transform** ([fft](https://en.wikipedia.org/wiki/Fast_Fourier_transform)) of them for model input.\n",
    "\n",
    "<img src=\"Ft.png\" style=\"width:300;height:300px;\">\n",
    "\n",
    "**Note!** You can directly download the dataset via: (https://github.com/AIdaResearchTeam/MLCourseJune21), extracting the .ZIP file and giving directories `<.\\dyes>` and `<.\\dno>`. Simply download the data in the directory of your final project notebook.(downloading using the a function is optional) Then you can use the below directories to import the data."
   ]
  },
  {
   "cell_type": "code",
   "execution_count": null,
   "metadata": {
    "scrolled": true
   },
   "outputs": [],
   "source": [
    "import #import the required packages for the get_the_data fucntion such as tarfile, zip, and ..."
   ]
  },
  {
   "cell_type": "code",
   "execution_count": null,
   "metadata": {
    "scrolled": true
   },
   "outputs": [],
   "source": [
    "#This cell is in case you want to download the datda using a function\n",
    "def get_the_data(None):\n",
    "    \n",
    "    None\n",
    "    \n",
    "\n",
    "    \n",
    "get_the_data(None)"
   ]
  },
  {
   "cell_type": "code",
   "execution_count": 1,
   "metadata": {
    "scrolled": true
   },
   "outputs": [],
   "source": [
    "FILE_YES = \"C:\\\\Users\\\\SETUP CO\\\\Downloads\\\\MLCourseJune21-main\\\\MLCourseJune21-main\\\\Dataset_yesno\\\\Dataset_yesno\\\\dyes\"        #Dataset directory for \"YES\" instances\n",
    "FILE_NO = \"C:\\\\Users\\\\SETUP CO\\\\Downloads\\\\MLCourseJune21-main\\\\MLCourseJune21-main\\\\Dataset_yesno\\\\Dataset_yesno\\\\dno\"          #Dataset directory for \"NO\" instances"
   ]
  },
  {
   "cell_type": "markdown",
   "metadata": {},
   "source": [
    "<a name='0'></a>\n",
    "## Import the libraries"
   ]
  },
  {
   "cell_type": "code",
   "execution_count": 2,
   "metadata": {
    "scrolled": true
   },
   "outputs": [],
   "source": [
    "import os\n",
    "import numpy as np\n",
    "import matplotlib.pyplot as plt\n",
    "import random\n",
    "from scipy.io.wavfile import read\n",
    "from scipy.fftpack import fft\n",
    "\n",
    "from sklearn.utils import shuffle\n",
    "\n",
    "import matplotlib.patches as mpatches\n",
    "import matplotlib.pyplot as plt\n",
    "\n",
    "from sklearn.linear_model import SGDClassifier\n",
    "from sklearn.ensemble import RandomForestClassifier\n",
    "from sklearn.svm import SVC\n",
    "from sklearn.linear_model import LogisticRegression\n",
    "from sklearn.neighbors import KNeighborsClassifier\n",
    "\n",
    "from sklearn.model_selection import cross_val_predict\n",
    "from sklearn.model_selection import cross_val_score\n",
    "from sklearn.metrics import confusion_matrix\n",
    "from sklearn.metrics import precision_score, recall_score, f1_score\n",
    "from sklearn.metrics import precision_recall_curve\n",
    "from sklearn.metrics import roc_curve\n",
    "from sklearn.metrics import roc_auc_score"
   ]
  },
  {
   "cell_type": "markdown",
   "metadata": {},
   "source": [
    "<a name='2'></a>\n",
    "## Load the Data\n",
    "\n",
    "The function `prepare_the_data` will get the wavefiles in the given directory, and reads each of the wave files (voices *yes/no*) returning two values, the signal and the sampling frequency. The function will then take the fourier transform of these signals individually. **We have provided you with the function.**\n",
    "\n",
    "In mathematics, a **Fourier transform** is a mathematical transform that decomposes functions depending on **space** or **time** into functions depending on spatial or temporal frequency, such as the expression of a musical chord in terms of the volumes and frequencies of its constituent notes. Simply, the fourier transform will conert the signal from time-domain to frequency-domain.\n",
    "\n",
    "$$g(t) <-^F-> G(f) $$\n",
    "\n",
    "\n",
    "$$G(f) = \\int_{-\\infty}^\\infty g(t)e^{-2\\pi ift}dt $$\n",
    "\n",
    "\n",
    "\n",
    "It is not necessary to understand how fourier transform works. You should only know two things:\n",
    "\n",
    "- First, that the fourier transform will give us an array containing *real* and *imaginary* values (complex numbers). We only need to work with **the magnitude** of the fourier transform and not with the phase which are calculated as follows:\n",
    "\n",
    "\n",
    "\n",
    "- Second, the output of the fourier transform is a symmetric array, that means the first half and the second half of the array are the same and we can delete the second half.\n",
    "\n",
    "**The output will be like:**\n",
    "\n",
    "$$G(f) = a + ib$$\n",
    "\n",
    "- $a$ and $b$ are real numbers and $i$ equals to $\\sqrt{-1}$\n",
    "\n",
    "the magnitude and phase are computed as follows:\n",
    "\n",
    "Assume we have $$Z = a +ib$$\n",
    "\n",
    "the Magnitude is:\n",
    "\n",
    "$$|Z| = \\sqrt{a^2 + b^2}$$\n",
    "\n",
    "and the phase is:\n",
    "\n",
    "$$\\alpha_z = \\tan^{-1}{\\frac{b}{a}}$$\n",
    "\n",
    "\n",
    "First, let's see how it works and see the plot of the signal:"
   ]
  },
  {
   "cell_type": "markdown",
   "metadata": {},
   "source": [
    "Using `scipy` we can implement the fourier transform with the class `fft` in fftpack. fft is the [Fast Fourier Transform](https://en.wikipedia.org/wiki/Fast_Fourier_transform), which is an algorithm that computes the discrete Fourier transform (DFT) of a sequence, or its inverse (IDFT). \n",
    "\n",
    "you can read the documentation here:\n",
    "- fft [documentation](https://docs.scipy.org/doc/scipy/reference/tutorial/fft.html)"
   ]
  },
  {
   "cell_type": "markdown",
   "metadata": {},
   "source": [
    "Execute the cell below to see the shape of the signal and it's fourier transform. (If the plots below did not work, don't worry about them)"
   ]
  },
  {
   "cell_type": "code",
   "execution_count": 3,
   "metadata": {
    "scrolled": true
   },
   "outputs": [
    {
     "name": "stdout",
     "output_type": "stream",
     "text": [
      "shape of the signal is: (1, 16000)\n",
      "shape of the fourier transform of the signal is: (1, 16000)\n"
     ]
    }
   ],
   "source": [
    "dirct = FILE_YES\n",
    "\n",
    "files = os.listdir(dirct)\n",
    "path = os.path.join(dirct, files[0])\n",
    "\n",
    "(out_fs ,signal1) = read(path)   #reading the voices using scipy io wave file the output is the signal + sampling frequency\n",
    "signal1_fft = fft(signal1)       #computing the fast fourier transform of the signal\n",
    "signal1 = signal1.reshape(1,16000)\n",
    "print('shape of the signal is:', signal1.shape)\n",
    "signal1_fft = signal1_fft.reshape(1,16000)\n",
    "print('shape of the fourier transform of the signal is:', signal1_fft.shape)"
   ]
  },
  {
   "cell_type": "markdown",
   "metadata": {},
   "source": [
    "You can plot the signal by executing the cell below: "
   ]
  },
  {
   "cell_type": "code",
   "execution_count": 4,
   "metadata": {
    "scrolled": true
   },
   "outputs": [
    {
     "data": {
      "image/png": "[encoded data removed]",
      "text/plain": [
       "<Figure size 432x288 with 1 Axes>"
      ]
     },
     "metadata": {
      "needs_background": "light"
     },
     "output_type": "display_data"
    }
   ],
   "source": [
    "length = signal1.shape[0] / out_fs\n",
    "time = np.linspace(0., length, signal1.shape[1])\n",
    "plt.plot(time, signal1[0,:], label=\"Mono channel\")\n",
    "plt.legend()\n",
    "plt.xlabel(\"Time [s]\")\n",
    "plt.ylabel(\"Amplitude\")\n",
    "plt.show()"
   ]
  },
  {
   "cell_type": "markdown",
   "metadata": {},
   "source": [
    "You can plot the signal's Fourier Transform by executing the cell below:"
   ]
  },
  {
   "cell_type": "code",
   "execution_count": null,
   "metadata": {
    "scrolled": false
   },
   "outputs": [],
   "source": [
    "xf = np.linspace(0.0, 1.0/(2.0*T), 16000/2)\n",
    "plt.plot(xf, abs(signal1_fft[0,:]), label=\"FFT\")\n",
    "plt.legend()\n",
    "plt.xlabel(\"?\")\n",
    "plt.ylabel(\"Magnitude\")\n",
    "plt.show()\n",
    "\n",
    "from scipy.fft import fftfreq\n",
    "# Number of sample points\n",
    "N = 16000\n",
    "# sample spacing\n",
    "T = 1.0 / 16000.0\n",
    "\n",
    "yf = signal1_fft[0,:]\n",
    "xf = fftfreq(N, T)[:N]\n",
    "\n",
    "plt.plot(xf, 2.0/N * np.abs(yf[0:N]))\n",
    "plt.grid()\n",
    "plt.show()"
   ]
  },
  {
   "cell_type": "markdown",
   "metadata": {},
   "source": [
    "### Function\n",
    "\n",
    "This is the function that loads the data according what we have explained earlier.\n",
    "\n",
    "To calculate the magnitude of the fourier transform, we use `abs()` function at the end of the function"
   ]
  },
  {
   "cell_type": "code",
   "execution_count": 3,
   "metadata": {
    "scrolled": true
   },
   "outputs": [],
   "source": [
    "def prepare_the_data(directory):                                                \n",
    "    '''\n",
    "    Arguments:\n",
    "            directory: directory of yes/no wave files\n",
    "    \n",
    "    Outputs:\n",
    "            abs(signal1_fft): magnitude of the fourier transform of the signals\n",
    "            out_fs: sampling frequency of the signal\n",
    "    \n",
    "    '''\n",
    "    files = os.listdir(directory)\n",
    "    path = os.path.join(directory, files[0])\n",
    "    \n",
    "    (out_fs ,signal1) = read(path)   #reading the voices using scipy io wave file the output is the signal + sampling frequency\n",
    "    signal1_fft = fft(signal1)       #computing the fast fourier transform of the signal\n",
    "    signal1_fft = signal1_fft[:8000] #Selecting only the positive half of FFT\n",
    "    signal1 = signal1.reshape(1,16000)\n",
    "    signal1_fft = signal1_fft.reshape(1,8000)\n",
    "    \n",
    "    for i in files[1:]:\n",
    "        path = os.path.join(directory, i)\n",
    "        (out_fs ,signal) = read(path)\n",
    "        \n",
    "        if signal.size == 16000:                                               #Checking Sampling Rate for each instance\n",
    "                                                                            \n",
    "            fft_temp = fft(signal)                                             #FFT Computation for instances\n",
    "            fft_temp = fft_temp[:8000]                                         #Selecting only the positive half of FFT\n",
    "            fft_temp = fft_temp.reshape(1,8000)                                \n",
    "            signal1_fft = np.concatenate((signal1_fft, fft_temp), axis=0)\n",
    "        \n",
    "    # The function will return the \n",
    "    return abs(signal1_fft), out_fs"
   ]
  },
  {
   "cell_type": "markdown",
   "metadata": {},
   "source": [
    "<a name='3'></a>\n",
    "## Add Labels and Split to train-test set\n",
    "\n",
    "Using the function that we have provided you, load both yes and no data voices into their variables. Furthermore, you have to create another array representing the labels. (you can set 1 to \"YES\" and zero to \"NO\" as it is a binary classification problem)\n",
    "\n",
    "Use the functions below:\n",
    "\n",
    "- `np.ones()`\n",
    "- `np.zeros()`"
   ]
  },
  {
   "cell_type": "code",
   "execution_count": 4,
   "metadata": {
    "scrolled": true
   },
   "outputs": [
    {
     "name": "stdout",
     "output_type": "stream",
     "text": [
      "+ Dimensions of \"YES\" Instances: (2157, 8000)\n",
      "+ Dimensions of \"NO\" Instances: (2098, 8000)\n"
     ]
    }
   ],
   "source": [
    "\n",
    "X_yes, fs_yes = prepare_the_data(FILE_YES)                                      #Loading the yes data and it's sampling frequency\n",
    "yes_label = np.ones(2157)\n",
    "\n",
    "X_no, fs_no = prepare_the_data(FILE_NO)                                       #Loading the no data and it's sampling frequency\n",
    "no_label = np.zeros(2098)\n",
    "\n",
    "print('+ Dimensions of \"YES\" Instances:', X_yes.shape)\n",
    "print('+ Dimensions of \"NO\" Instances:', X_no.shape)"
   ]
  },
  {
   "cell_type": "markdown",
   "metadata": {},
   "source": [
    "Expected Outputs:\n",
    "\n",
    "'''\n",
    "+ Dimensions of \"YES\" Instances: (2157, 8000)\n",
    "+ Dimensions of \"NO\" Instances: (2098, 8000)\n",
    "\n",
    "'''"
   ]
  },
  {
   "cell_type": "markdown",
   "metadata": {},
   "source": [
    "#### Shuffling The Data Instances and Then Split It Into Train and Test Sets\n",
    "\n",
    "Now that your features and labels are ready, you have to split it into train and test sets before any further look into the data. Use the methods we have had earlier in the course. (Recall **Part 2**)"
   ]
  },
  {
   "cell_type": "code",
   "execution_count": 5,
   "metadata": {
    "scrolled": true
   },
   "outputs": [],
   "source": [
    "#Shuffling the Data instances and then split it into train & test sets\n",
    "from sklearn.model_selection import train_test_split\n",
    "X=np.concatenate((X_yes,X_no),axis=0)\n",
    "y=np.concatenate((yes_label,no_label),axis=0)\n",
    "X_train, X_test, y_train, y_test = train_test_split(X, y, test_size=0.2, random_state=42,shuffle=True)\n"
   ]
  },
  {
   "cell_type": "code",
   "execution_count": 6,
   "metadata": {},
   "outputs": [
    {
     "name": "stdout",
     "output_type": "stream",
     "text": [
      "(3404, 8000) (851, 8000) (3404,) (851,)\n"
     ]
    }
   ],
   "source": [
    "print(X_train.shape, X_test.shape, y_train.shape, y_test.shape)"
   ]
  },
  {
   "cell_type": "markdown",
   "metadata": {},
   "source": [
    "<a name='4'></a>\n",
    "## Implement Models and Evaluate them\n",
    "\n",
    "From now on, you have to do several tasks to complete the project:\n",
    "\n",
    "1. Implement the classifiers you have learned so far on the data (Logistic Regression, SGDClassifier, SVM, KNN)\n",
    "2. Evaluate the models (Recall how we **evaluate classifers**, also use crossvalidation with **3 folds**)\n",
    "    - Confusion matrix for each model\n",
    "    - Plot the precision-recall for the performance of each model\n",
    "    - Calculate the f1 score for each model\n",
    "    - Plot the roc curve as well for all models in **one figure**\n",
    "    - Compare the performance of each model to one another according to the roc curve (You can comment your answer using `#comment` or `''' comment '''`)\n",
    "  \n",
    "  \n",
    "3. Fine tune the models and choose the best one\n",
    "    - Plot the precision-recall trade-off and show the threshold value on the trade-off plot for each model so that the recall score would be 70%\n",
    "    \n",
    "    \n",
    "4. Evaluate how your model generalizes on the new data\n",
    "5. Decide whether the model is performing well, overfitting, underfitting and state your reason\n",
    "\n",
    "**Good Luck!** "
   ]
  },
  {
   "cell_type": "code",
   "execution_count": 11,
   "metadata": {
    "scrolled": true
   },
   "outputs": [],
   "source": [
    "knn=KNeighborsClassifier()"
   ]
  },
  {
   "cell_type": "code",
   "execution_count": 13,
   "metadata": {
    "scrolled": true
   },
   "outputs": [
    {
     "data": {
      "text/plain": [
       "array([0.81057269, 0.79559471, 0.7962963 ])"
      ]
     },
     "execution_count": 13,
     "metadata": {},
     "output_type": "execute_result"
    }
   ],
   "source": [
    "cross_val_score(knn,X_train,y_train,cv=3)"
   ]
  },
  {
   "cell_type": "code",
   "execution_count": 14,
   "metadata": {},
   "outputs": [],
   "source": [
    "y_pred=cross_val_predict(knn,X_train,y_train,cv=3)"
   ]
  },
  {
   "cell_type": "code",
   "execution_count": 15,
   "metadata": {
    "scrolled": true
   },
   "outputs": [
    {
     "data": {
      "text/plain": [
       "array([[1318,  384],\n",
       "       [ 294, 1408]], dtype=int64)"
      ]
     },
     "execution_count": 15,
     "metadata": {},
     "output_type": "execute_result"
    }
   ],
   "source": [
    "confusion_matrix(y_train,y_pred)"
   ]
  },
  {
   "cell_type": "code",
   "execution_count": 16,
   "metadata": {},
   "outputs": [
    {
     "data": {
      "text/plain": [
       "0.8059530623926732"
      ]
     },
     "execution_count": 16,
     "metadata": {},
     "output_type": "execute_result"
    }
   ],
   "source": [
    "f1_score(y_train,y_pred)"
   ]
  },
  {
   "cell_type": "code",
   "execution_count": 17,
   "metadata": {},
   "outputs": [
    {
     "data": {
      "text/plain": [
       "KNeighborsClassifier()"
      ]
     },
     "execution_count": 17,
     "metadata": {},
     "output_type": "execute_result"
    }
   ],
   "source": [
    "knn.fit(X_train,y_train)"
   ]
  },
  {
   "cell_type": "code",
   "execution_count": 18,
   "metadata": {
    "scrolled": true
   },
   "outputs": [
    {
     "data": {
      "text/plain": [
       "0.8296122209165687"
      ]
     },
     "execution_count": 18,
     "metadata": {},
     "output_type": "execute_result"
    }
   ],
   "source": [
    "#new data\n",
    "knn.score(X_test,y_test)"
   ]
  },
  {
   "cell_type": "code",
   "execution_count": null,
   "metadata": {},
   "outputs": [],
   "source": [
    "# knn is performing well because score on new data and score in cv are both high and close together"
   ]
  },
  {
   "cell_type": "code",
   "execution_count": null,
   "metadata": {},
   "outputs": [],
   "source": []
  },
  {
   "cell_type": "code",
   "execution_count": 8,
   "metadata": {
    "scrolled": true
   },
   "outputs": [],
   "source": [
    "svm=SVC()"
   ]
  },
  {
   "cell_type": "code",
   "execution_count": 12,
   "metadata": {
    "scrolled": true
   },
   "outputs": [
    {
     "data": {
      "text/plain": [
       "array([0.8969163 , 0.90396476, 0.8633157 ])"
      ]
     },
     "execution_count": 12,
     "metadata": {},
     "output_type": "execute_result"
    }
   ],
   "source": [
    "cross_val_score(svm,X_train,y_train,cv=3)"
   ]
  },
  {
   "cell_type": "code",
   "execution_count": 16,
   "metadata": {},
   "outputs": [],
   "source": [
    "y_pred=cross_val_predict(svm,X_train,y_train,cv=3)"
   ]
  },
  {
   "cell_type": "code",
   "execution_count": 17,
   "metadata": {
    "scrolled": true
   },
   "outputs": [
    {
     "data": {
      "text/plain": [
       "array([[1627,   75],\n",
       "       [ 306, 1396]], dtype=int64)"
      ]
     },
     "execution_count": 17,
     "metadata": {},
     "output_type": "execute_result"
    }
   ],
   "source": [
    "confusion_matrix(y_train,y_pred)"
   ]
  },
  {
   "cell_type": "code",
   "execution_count": 18,
   "metadata": {},
   "outputs": [
    {
     "data": {
      "text/plain": [
       "0.8799243618027105"
      ]
     },
     "execution_count": 18,
     "metadata": {},
     "output_type": "execute_result"
    }
   ],
   "source": [
    "f1_score(y_train,y_pred)"
   ]
  },
  {
   "cell_type": "code",
   "execution_count": 9,
   "metadata": {},
   "outputs": [
    {
     "data": {
      "text/plain": [
       "SVC()"
      ]
     },
     "execution_count": 9,
     "metadata": {},
     "output_type": "execute_result"
    }
   ],
   "source": [
    "svm.fit(X_train,y_train)"
   ]
  },
  {
   "cell_type": "code",
   "execution_count": 10,
   "metadata": {},
   "outputs": [
    {
     "data": {
      "text/plain": [
       "0.881316098707403"
      ]
     },
     "execution_count": 10,
     "metadata": {},
     "output_type": "execute_result"
    }
   ],
   "source": [
    "#new data\n",
    "svm.score(X_test,y_test)"
   ]
  },
  {
   "cell_type": "code",
   "execution_count": null,
   "metadata": {},
   "outputs": [],
   "source": [
    "# svm is performing well because score on new data and score in cv are both high and close together"
   ]
  },
  {
   "cell_type": "code",
   "execution_count": null,
   "metadata": {},
   "outputs": [],
   "source": []
  },
  {
   "cell_type": "code",
   "execution_count": 24,
   "metadata": {
    "scrolled": true
   },
   "outputs": [],
   "source": [
    "LR=LogisticRegression(solver=\"liblinear\")"
   ]
  },
  {
   "cell_type": "code",
   "execution_count": 25,
   "metadata": {
    "scrolled": true
   },
   "outputs": [
    {
     "name": "stderr",
     "output_type": "stream",
     "text": [
      "C:\\Users\\SETUP CO\\anaconda3.2\\lib\\site-packages\\sklearn\\svm\\_base.py:976: ConvergenceWarning: Liblinear failed to converge, increase the number of iterations.\n",
      "  warnings.warn(\"Liblinear failed to converge, increase \"\n",
      "C:\\Users\\SETUP CO\\anaconda3.2\\lib\\site-packages\\sklearn\\svm\\_base.py:976: ConvergenceWarning: Liblinear failed to converge, increase the number of iterations.\n",
      "  warnings.warn(\"Liblinear failed to converge, increase \"\n",
      "C:\\Users\\SETUP CO\\anaconda3.2\\lib\\site-packages\\sklearn\\svm\\_base.py:976: ConvergenceWarning: Liblinear failed to converge, increase the number of iterations.\n",
      "  warnings.warn(\"Liblinear failed to converge, increase \"\n"
     ]
    },
    {
     "data": {
      "text/plain": [
       "array([0.89867841, 0.90748899, 0.89153439])"
      ]
     },
     "execution_count": 25,
     "metadata": {},
     "output_type": "execute_result"
    }
   ],
   "source": [
    "cross_val_score(LR,X_train,y_train,cv=3)"
   ]
  },
  {
   "cell_type": "code",
   "execution_count": 26,
   "metadata": {},
   "outputs": [
    {
     "name": "stderr",
     "output_type": "stream",
     "text": [
      "C:\\Users\\SETUP CO\\anaconda3.2\\lib\\site-packages\\sklearn\\svm\\_base.py:976: ConvergenceWarning: Liblinear failed to converge, increase the number of iterations.\n",
      "  warnings.warn(\"Liblinear failed to converge, increase \"\n",
      "C:\\Users\\SETUP CO\\anaconda3.2\\lib\\site-packages\\sklearn\\svm\\_base.py:976: ConvergenceWarning: Liblinear failed to converge, increase the number of iterations.\n",
      "  warnings.warn(\"Liblinear failed to converge, increase \"\n",
      "C:\\Users\\SETUP CO\\anaconda3.2\\lib\\site-packages\\sklearn\\svm\\_base.py:976: ConvergenceWarning: Liblinear failed to converge, increase the number of iterations.\n",
      "  warnings.warn(\"Liblinear failed to converge, increase \"\n"
     ]
    }
   ],
   "source": [
    "y_pred=cross_val_predict(LR,X_train,y_train,cv=3)"
   ]
  },
  {
   "cell_type": "code",
   "execution_count": 27,
   "metadata": {
    "scrolled": true
   },
   "outputs": [
    {
     "data": {
      "text/plain": [
       "array([[1518,  184],\n",
       "       [ 159, 1543]], dtype=int64)"
      ]
     },
     "execution_count": 27,
     "metadata": {},
     "output_type": "execute_result"
    }
   ],
   "source": [
    "confusion_matrix(y_train,y_pred)"
   ]
  },
  {
   "cell_type": "code",
   "execution_count": 28,
   "metadata": {},
   "outputs": [
    {
     "data": {
      "text/plain": [
       "0.8999708369787109"
      ]
     },
     "execution_count": 28,
     "metadata": {},
     "output_type": "execute_result"
    }
   ],
   "source": [
    "f1_score(y_train,y_pred)"
   ]
  },
  {
   "cell_type": "code",
   "execution_count": 29,
   "metadata": {},
   "outputs": [
    {
     "name": "stderr",
     "output_type": "stream",
     "text": [
      "C:\\Users\\SETUP CO\\anaconda3.2\\lib\\site-packages\\sklearn\\svm\\_base.py:976: ConvergenceWarning: Liblinear failed to converge, increase the number of iterations.\n",
      "  warnings.warn(\"Liblinear failed to converge, increase \"\n"
     ]
    },
    {
     "data": {
      "text/plain": [
       "LogisticRegression(solver='liblinear')"
      ]
     },
     "execution_count": 29,
     "metadata": {},
     "output_type": "execute_result"
    }
   ],
   "source": [
    "LR.fit(X_train,y_train)"
   ]
  },
  {
   "cell_type": "code",
   "execution_count": 30,
   "metadata": {},
   "outputs": [
    {
     "data": {
      "text/plain": [
       "0.8883666274970623"
      ]
     },
     "execution_count": 30,
     "metadata": {},
     "output_type": "execute_result"
    }
   ],
   "source": [
    "#new data\n",
    "LR.score(X_test,y_test)"
   ]
  },
  {
   "cell_type": "code",
   "execution_count": null,
   "metadata": {},
   "outputs": [],
   "source": [
    "# LR is performing well because score on new data and score in cv are both high and close together"
   ]
  },
  {
   "cell_type": "code",
   "execution_count": null,
   "metadata": {},
   "outputs": [],
   "source": []
  },
  {
   "cell_type": "code",
   "execution_count": 31,
   "metadata": {
    "scrolled": true
   },
   "outputs": [],
   "source": [
    "sgd=SGDClassifier()"
   ]
  },
  {
   "cell_type": "code",
   "execution_count": 32,
   "metadata": {
    "scrolled": true
   },
   "outputs": [
    {
     "data": {
      "text/plain": [
       "array([0.89515419, 0.89427313, 0.90388007])"
      ]
     },
     "execution_count": 32,
     "metadata": {},
     "output_type": "execute_result"
    }
   ],
   "source": [
    "cross_val_score(sgd,X_train,y_train,cv=3)"
   ]
  },
  {
   "cell_type": "code",
   "execution_count": 33,
   "metadata": {},
   "outputs": [],
   "source": [
    "y_pred=cross_val_predict(sgd,X_train,y_train,cv=3)"
   ]
  },
  {
   "cell_type": "code",
   "execution_count": 34,
   "metadata": {
    "scrolled": true
   },
   "outputs": [
    {
     "data": {
      "text/plain": [
       "array([[1484,  218],\n",
       "       [ 119, 1583]], dtype=int64)"
      ]
     },
     "execution_count": 34,
     "metadata": {},
     "output_type": "execute_result"
    }
   ],
   "source": [
    "confusion_matrix(y_train,y_pred)"
   ]
  },
  {
   "cell_type": "code",
   "execution_count": 35,
   "metadata": {},
   "outputs": [
    {
     "data": {
      "text/plain": [
       "0.9037967456465886"
      ]
     },
     "execution_count": 35,
     "metadata": {},
     "output_type": "execute_result"
    }
   ],
   "source": [
    "f1_score(y_train,y_pred)"
   ]
  },
  {
   "cell_type": "code",
   "execution_count": 36,
   "metadata": {},
   "outputs": [
    {
     "data": {
      "text/plain": [
       "SGDClassifier()"
      ]
     },
     "execution_count": 36,
     "metadata": {},
     "output_type": "execute_result"
    }
   ],
   "source": [
    "sgd.fit(X_train,y_train)"
   ]
  },
  {
   "cell_type": "code",
   "execution_count": 37,
   "metadata": {},
   "outputs": [
    {
     "data": {
      "text/plain": [
       "0.8965922444183314"
      ]
     },
     "execution_count": 37,
     "metadata": {},
     "output_type": "execute_result"
    }
   ],
   "source": [
    "#new data\n",
    "sgd.score(X_test,y_test)"
   ]
  },
  {
   "cell_type": "code",
   "execution_count": null,
   "metadata": {},
   "outputs": [],
   "source": [
    "# sgd is performing well because score on new data and score in cv are both high and close together"
   ]
  },
  {
   "cell_type": "markdown",
   "metadata": {},
   "source": [
    "**Congradulations on finishing the final examination!**\n",
    "\n",
    "<img src=\"Congratulations.jpg\" style=\"width:450;height:300px;\">\n",
    "\n",
    "\n",
    "\n",
    "\n"
   ]
  },
  {
   "cell_type": "markdown",
   "metadata": {},
   "source": [
    "# Refrences\n",
    "\n",
    "- Inspired by Dr. Andrew NG"
   ]
  },
  {
   "cell_type": "code",
   "execution_count": null,
   "metadata": {},
   "outputs": [],
   "source": []
  }
 ],
 "metadata": {
  "kernelspec": {
   "display_name": "Python 3",
   "language": "python",
   "name": "python3"
  },
  "language_info": {
   "codemirror_mode": {
    "name": "ipython",
    "version": 3
   },
   "file_extension": ".py",
   "mimetype": "text/x-python",
   "name": "python",
   "nbconvert_exporter": "python",
   "pygments_lexer": "ipython3",
   "version": "3.8.5"
  }
 },
 "nbformat": 4,
 "nbformat_minor": 4
}
